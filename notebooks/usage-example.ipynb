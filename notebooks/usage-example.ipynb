{
 "cells": [
  {
   "cell_type": "markdown",
   "metadata": {},
   "source": [
    "# Sparse Cross-Encoder Example Notebook\n",
    "\n",
    "This is a short example notebook for re-ranking a set of passages with a pre-trained and fine-tuned sparse cross-encoder."
   ]
  },
  {
   "cell_type": "code",
   "execution_count": 34,
   "metadata": {},
   "outputs": [],
   "source": [
    "import sys\n",
    "from textwrap import wrap\n",
    "\n",
    "import torch\n",
    "from transformers import AutoTokenizer\n",
    "\n",
    "if torch.cuda.is_available():\n",
    "    device = torch.device(\"cuda\")\n",
    "else:\n",
    "    device = torch.device(\"cpu\")\n",
    "\n",
    "sys.path.append(\"..\")\n",
    "\n",
    "from sparse_cross_encoder.model.sparse_cross_encoder import (\n",
    "    SparseCrossEncoderModelForSequenceClassification,\n",
    ")"
   ]
  },
  {
   "cell_type": "markdown",
   "metadata": {},
   "source": [
    "Load the model and tokenizer"
   ]
  },
  {
   "cell_type": "code",
   "execution_count": 35,
   "metadata": {},
   "outputs": [],
   "source": [
    "model_name = \"webis/sparse-cross-encoder-4-512\"\n",
    "tokenizer = AutoTokenizer.from_pretrained(model_name)\n",
    "model = SparseCrossEncoderModelForSequenceClassification.from_pretrained(\n",
    "    model_name\n",
    ")\n",
    "model = model.eval().to(device)"
   ]
  },
  {
   "cell_type": "markdown",
   "metadata": {},
   "source": [
    "An example query and a set of passages"
   ]
  },
  {
   "cell_type": "code",
   "execution_count": 16,
   "metadata": {},
   "outputs": [],
   "source": [
    "# trec dl '19 qid 146187\n",
    "query = \"difference between a mcdouble and a double cheeseburger\"\n",
    "passages = [\n",
    "    \"There is a discernible difference between the two burgers, especially in the meat quality. The McDouble contains gristle and carry's a different flavor than the Double Cheeseburger. The double cheeseburger tastes more like beef. The McDouble tastes of whatever meat filler they use to fill the gap.\",\n",
    "    \"Review: Triple Cheeseburger from McDonald’s. When it comes to the various sizes of classic McDonald’s cheeseburgers, the prices might have you scratching your head. The price differences between a McDonald’s Cheeseburger, the beefier McDouble and the cheesier Double Cheeseburger now all fall within 50-cents of one another.\",\n",
    "    \"At first glance, the double cheeseburger looks a lot like the McDouble, but it is not exactly the same thing. The main difference that you will notice is the amount of cheese that is on this sandwich. There are two slices of cheese on the double cheeseburger instead of just the one slice of cheese that comes on the McDouble. Even though it comes with two slices of cheese, it still has the onions, pickles, ketchup and mustard that come on the other burgers.\",\n",
    "    \"But I did it for you. With McDonald's recent release of the McDouble, they now have three basic, sub-$2 cheeseburgers: the cheeseburger, McDouble (two patties with one slice of cheese), and double cheeseburger (two patties with two slices of cheese).\",\n",
    "    \"Although we previously reported that the McDouble would be on the Dollar Menu, in Manhattan the cheeseburger appears on the Dollar Menu while the McDouble is $1.39 and the double cheeseburger is $1.49.\",\n",
    "    \"The Double Cheesburger is now $1.19 instead of a buck. Seriously, $.19/slice of cheese and a removal from the Dollar Menu. Do I order the Double Cheeseburger at its new full price or do I stick to the Dollar Menu and go with the McDouble. Of course, I go with the McDouble. One piece of McCheese might be better than two pieces of McCheese. I guess McDonalds thinks people like me who bought the Double Cheeseburger for a buck will pony up and pay the extra pennies. Sooner or later they will be charging for extra napkins and ketchup.\",\n",
    "    \"The Double Cheeseburger is priced at $1.49 and my Triple Cheeseburger was priced at $2.19. I just don’t understand the point of paying 70-cents for an extra burger patty when you can just get two McDoubles for $2.00. Obviously the value of the Triple Cheeseburger makes no sense when you’re comparing menu items.\",\n",
    "    \"The McDouble is listed as a slice of American cheese between two 100% beef patties, topped with pickles, onions, ketchup and mustard. mcdonalds.com. The Double Cheeseburger is listed as two slices of golden American cheese with two 100% all beef patties, pickles, onions, ketchup and mustard.\",\n",
    "    \"So whenever the McDouble hit the Dollar Menu and the Double Cheeseburger was thrown into the “Burgers” section at $1.19 or even higher ($1.29 in most places now), the average consumer scratched their head, winced their eyes, and fell over in a wrath of confusion and bewilderment.\",\n",
    "    \"The difference is that the Mighty Kid's Meal provides more food than what is typically found in a Happy Meal, providing a McDouble (a cheeseburger consisting of two patties and one slice of cheese) instead of a cheeseburger or a hamburger, and more Chicken McNuggets (6 versus 4), plus a larger drink (16oz vs 12oz).\",\n",
    "]"
   ]
  },
  {
   "cell_type": "markdown",
   "metadata": {},
   "source": [
    "Encode the query and passages. The sparse cross-encoder handles the padding of the input and adding the special tokens automatically."
   ]
  },
  {
   "cell_type": "code",
   "execution_count": 17,
   "metadata": {},
   "outputs": [
    {
     "name": "stdout",
     "output_type": "stream",
     "text": [
      "10\n"
     ]
    }
   ],
   "source": [
    "query_input_ids = tokenizer(query, return_tensors=\"pt\", add_special_tokens=False).input_ids[0].to(device)\n",
    "doc_input_ids = [\n",
    "    tokenizer(passage, return_tensors=\"pt\", add_special_tokens=False).input_ids[0].to(device)\n",
    "    for passage in passages\n",
    "]\n",
    "print(len(doc_input_ids))"
   ]
  },
  {
   "cell_type": "markdown",
   "metadata": {},
   "source": [
    "Feed the query and passages into the model and get the scores for each passage."
   ]
  },
  {
   "cell_type": "code",
   "execution_count": 20,
   "metadata": {},
   "outputs": [
    {
     "name": "stdout",
     "output_type": "stream",
     "text": [
      "[tensor([10.3506,  7.1963,  9.6861,  8.2152,  8.7845,  3.6254,  2.0268,  8.3568,\n",
      "         3.7185,  8.7403])]\n"
     ]
    }
   ],
   "source": [
    "with torch.inference_mode():\n",
    "    out = model([query_input_ids], [doc_input_ids])\n",
    "print(out.logits)"
   ]
  },
  {
   "cell_type": "markdown",
   "metadata": {},
   "source": [
    "Print the passages in the re-ranked order."
   ]
  },
  {
   "cell_type": "code",
   "execution_count": 33,
   "metadata": {},
   "outputs": [
    {
     "name": "stdout",
     "output_type": "stream",
     "text": [
      "Query: difference between a mcdouble and a double cheeseburger\n",
      "Passage #1(score=10.35):\n",
      "There is a discernible difference between the two burgers, especially in the\n",
      "meat quality. The McDouble contains gristle and carry's a different flavor than\n",
      "the Double Cheeseburger. The double cheeseburger tastes more like beef. The\n",
      "McDouble tastes of whatever meat filler they use to fill the gap.\n",
      "--------------------\n",
      "Passage #3(score=9.69):\n",
      "At first glance, the double cheeseburger looks a lot like the McDouble, but it\n",
      "is not exactly the same thing. The main difference that you will notice is the\n",
      "amount of cheese that is on this sandwich. There are two slices of cheese on the\n",
      "double cheeseburger instead of just the one slice of cheese that comes on the\n",
      "McDouble. Even though it comes with two slices of cheese, it still has the\n",
      "onions, pickles, ketchup and mustard that come on the other burgers.\n",
      "--------------------\n",
      "Passage #5(score=8.78):\n",
      "Although we previously reported that the McDouble would be on the Dollar Menu,\n",
      "in Manhattan the cheeseburger appears on the Dollar Menu while the McDouble is\n",
      "$1.39 and the double cheeseburger is $1.49.\n",
      "--------------------\n",
      "Passage #10(score=8.74):\n",
      "The difference is that the Mighty Kid's Meal provides more food than what is\n",
      "typically found in a Happy Meal, providing a McDouble (a cheeseburger consisting\n",
      "of two patties and one slice of cheese) instead of a cheeseburger or a\n",
      "hamburger, and more Chicken McNuggets (6 versus 4), plus a larger drink (16oz vs\n",
      "12oz).\n",
      "--------------------\n",
      "Passage #8(score=8.36):\n",
      "The McDouble is listed as a slice of American cheese between two 100% beef\n",
      "patties, topped with pickles, onions, ketchup and mustard. mcdonalds.com. The\n",
      "Double Cheeseburger is listed as two slices of golden American cheese with two\n",
      "100% all beef patties, pickles, onions, ketchup and mustard.\n",
      "--------------------\n",
      "Passage #4(score=8.22):\n",
      "But I did it for you. With McDonald's recent release of the McDouble, they now\n",
      "have three basic, sub-$2 cheeseburgers: the cheeseburger, McDouble (two patties\n",
      "with one slice of cheese), and double cheeseburger (two patties with two slices\n",
      "of cheese).\n",
      "--------------------\n",
      "Passage #2(score=7.20):\n",
      "Review: Triple Cheeseburger from McDonald’s. When it comes to the various sizes\n",
      "of classic McDonald’s cheeseburgers, the prices might have you scratching your\n",
      "head. The price differences between a McDonald’s Cheeseburger, the beefier\n",
      "McDouble and the cheesier Double Cheeseburger now all fall within 50-cents of\n",
      "one another.\n",
      "--------------------\n",
      "Passage #9(score=3.72):\n",
      "So whenever the McDouble hit the Dollar Menu and the Double Cheeseburger was\n",
      "thrown into the “Burgers” section at $1.19 or even higher ($1.29 in most places\n",
      "now), the average consumer scratched their head, winced their eyes, and fell\n",
      "over in a wrath of confusion and bewilderment.\n",
      "--------------------\n",
      "Passage #6(score=3.63):\n",
      "The Double Cheesburger is now $1.19 instead of a buck. Seriously, $.19/slice of\n",
      "cheese and a removal from the Dollar Menu. Do I order the Double Cheeseburger at\n",
      "its new full price or do I stick to the Dollar Menu and go with the McDouble. Of\n",
      "course, I go with the McDouble. One piece of McCheese might be better than two\n",
      "pieces of McCheese. I guess McDonalds thinks people like me who bought the\n",
      "Double Cheeseburger for a buck will pony up and pay the extra pennies. Sooner or\n",
      "later they will be charging for extra napkins and ketchup.\n",
      "--------------------\n",
      "Passage #7(score=2.03):\n",
      "The Double Cheeseburger is priced at $1.49 and my Triple Cheeseburger was priced\n",
      "at $2.19. I just don’t understand the point of paying 70-cents for an extra\n",
      "burger patty when you can just get two McDoubles for $2.00. Obviously the value\n",
      "of the Triple Cheeseburger makes no sense when you’re comparing menu items.\n",
      "--------------------\n"
     ]
    },
    {
     "data": {
      "text/plain": [
       "[tensor([10.3506,  7.1963,  9.6861,  8.2152,  8.7845,  3.6254,  2.0268,  8.3568,\n",
       "          3.7185,  8.7403])]"
      ]
     },
     "execution_count": 33,
     "metadata": {},
     "output_type": "execute_result"
    }
   ],
   "source": [
    "print(f\"Query: {query}\")\n",
    "sorted_passages = [\n",
    "    passage\n",
    "    for passage in sorted(enumerate(passages), key=lambda x: out.logits[0][x[0]], reverse=True)\n",
    "]\n",
    "\n",
    "for idx, passage in sorted_passages:\n",
    "    print(f\"Passage #{idx+1}(score={out.logits[0][idx]:.2f}):\")\n",
    "    print(\"\\n\".join(wrap(passage, 80)))\n",
    "    print(\"-\" * 20)\n",
    "out.logits"
   ]
  }
 ],
 "metadata": {
  "kernelspec": {
   "display_name": "ir",
   "language": "python",
   "name": "python3"
  },
  "language_info": {
   "codemirror_mode": {
    "name": "ipython",
    "version": 3
   },
   "file_extension": ".py",
   "mimetype": "text/x-python",
   "name": "python",
   "nbconvert_exporter": "python",
   "pygments_lexer": "ipython3",
   "version": "3.10.13"
  }
 },
 "nbformat": 4,
 "nbformat_minor": 2
}
