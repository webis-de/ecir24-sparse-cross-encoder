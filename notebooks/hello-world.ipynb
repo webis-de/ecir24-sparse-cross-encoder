{
 "cells": [
  {
   "cell_type": "code",
   "execution_count": null,
   "metadata": {},
   "outputs": [],
   "source": [
    "# Create some data:\n",
    "\n"
   ]
  },
  {
   "cell_type": "code",
   "execution_count": 4,
   "metadata": {},
   "outputs": [],
   "source": [
    "import pandas as pd\n",
    "\n",
    "scored_docs = pd.DataFrame([\n",
    "    {\"qid\": \"1\", \"query\": \"hubble telescope achievements\", \"docno\": \"doc-3\", \"text\": \"The Hubble telescope discovered two moons of Pluto, Nix and Hydra.\", \"rank\": 1, \"score\": 10},\n",
    "    {\"qid\": \"1\", \"query\": \"hubble telescope achievements\", \"docno\": \"doc-4\", \"text\": \"Edwin Hubble, an astronomer with great achievement, completely reimagined our place in the universe (the telescope is named by him).\", \"rank\": 2, \"score\": 9},\n",
    "    {\"qid\": \"2\", \"query\": \"how to exit vim?\", \"docno\": \"doc-1\", \"text\": \"Press ESC key, then the : (colon), and type the wq command after the colon and hit the Enter key to save and leave Vim.\", \"rank\": 1, \"score\": 10},\n",
    "    {\"qid\": \"2\", \"query\": \"how to exit vim?\", \"docno\": \"doc-2\", \"text\": \"In Vim, you can always press the ESC key on your keyboard to enter the normal mode in the Vim editor.\", \"rank\": 2, \"score\": 9},\n",
    "    {\"qid\": \"3\", \"query\": \"signs heart attack\", \"docno\": \"doc-5\", \"text\": \"Common heart attack symptoms include: (1) Chest pain, (2) Pain or discomfort that spreads to the shoulder, arm, back, neck, jaw, teeth or sometimes the upper belly, etc.\", \"rank\": 1, \"score\": 10},\n",
    "    {\"qid\": \"3\", \"query\": \"signs heart attack\", \"docno\": \"doc-6\", \"text\": \"A heart attack happens when the flow of blood that brings oxygen to your heart muscle suddenly becomes blocked. \", \"rank\": 2, \"score\": 9},\n",
    "])\n",
    "\n",
    "scored_docs.to_json(\"/tmp/scored-docs.jsonl\", lines=True, orient='records')"
   ]
  },
  {
   "cell_type": "code",
   "execution_count": 5,
   "metadata": {},
   "outputs": [
    {
     "name": "stdout",
     "output_type": "stream",
     "text": [
      "/opt/conda/lib/python3.10/site-packages/lightning/fabric/utilities/seed.py:40: UserWarning: No seed found, seed set to 2162037876\n",
      "  rank_zero_warn(f\"No seed found, seed set to {seed}\")\n",
      "Global seed set to 2162037876\n",
      "GPU available: False, used: False\n",
      "TPU available: False, using: 0 TPU cores\n",
      "IPU available: False, using: 0 IPUs\n",
      "HPU available: False, using: 0 HPUs\n",
      "Predicting DataLoader 0: 100%|████████████████████| 2/2 [00:00<00:00, 15.03it/s]\n"
     ]
    }
   ],
   "source": [
    "!python3 /workspaces/ecir24-sparse-cross-encoder/main.py \\\n",
    "    predict --config /workspaces/ecir24-sparse-cross-encoder/sparse_cross_encoder/configs/cli/predict.yaml \\\n",
    "    --model.model_name_or_path webis/sparse-cross-encoder-4-512 \\\n",
    "    --data.ir_dataset_path /tmp/scored-docs.jsonl --trainer.callbacks.output_path run.txt"
   ]
  },
  {
   "cell_type": "code",
   "execution_count": 6,
   "metadata": {},
   "outputs": [
    {
     "name": "stdout",
     "output_type": "stream",
     "text": [
      "1\t0\tdoc-4\t1\t8.890690803527832\tsparse_cross_encoder\n",
      "1\t0\tdoc-3\t2\t4.295183181762695\tsparse_cross_encoder\n",
      "2\t0\tdoc-1\t1\t9.803215026855469\tsparse_cross_encoder\n",
      "2\t0\tdoc-2\t2\t6.0173187255859375\tsparse_cross_encoder\n",
      "3\t0\tdoc-5\t1\t9.545903205871582\tsparse_cross_encoder\n",
      "3\t0\tdoc-6\t2\t5.457429885864258\tsparse_cross_encoder\n"
     ]
    }
   ],
   "source": [
    "!cat run.txt"
   ]
  }
 ],
 "metadata": {
  "kernelspec": {
   "display_name": "base",
   "language": "python",
   "name": "python3"
  },
  "language_info": {
   "codemirror_mode": {
    "name": "ipython",
    "version": 3
   },
   "file_extension": ".py",
   "mimetype": "text/x-python",
   "name": "python",
   "nbconvert_exporter": "python",
   "pygments_lexer": "ipython3",
   "version": "3.10.13"
  }
 },
 "nbformat": 4,
 "nbformat_minor": 2
}
