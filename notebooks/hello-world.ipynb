{
 "cells": [
  {
   "cell_type": "markdown",
   "metadata": {},
   "source": [
    "# Sparse Cross-Encoder (4-512)\n",
    "\n",
    "This jupyter notebook shows how to run the [4-512 edition of the sparse cross-encoder](https://arxiv.org/pdf/2312.17649.pdf).\n",
    "\n",
    "The notebook is intended to be executed in the [associated dev-container](https://github.com/webis-de/ecir24-sparse-cross-encoder/blob/main/.devcontainer.json) and is also the notebook that we executed in [TIREx](http://tira.io/tirex) that you either can start locally (e.g., using VSCode + Docker/Podman) or using the free tier of Github Codespaces (120h free per month for standard accounts).\n",
    "\n",
    "To start it in Github Codespaces, please click on \"Code\" -> \"Codespaces\" in the github repository:\n",
    "\n",
    "\n",
    "This notebook runs on a small customizable hello world example if executed outside of TIRA/TIREx, and processes the injected data if executed within TIRA/TIREx."
   ]
  },
  {
   "cell_type": "markdown",
   "metadata": {},
   "source": [
    "### Step 1: Configure Inputs/Outputs"
   ]
  },
  {
   "cell_type": "code",
   "execution_count": 1,
   "metadata": {},
   "outputs": [],
   "source": [
    "import pandas as pd\n",
    "import os\n",
    "\n",
    "input_dataset = \"/tmp/rerank.jsonl.gz\"\n",
    "output_file = \"/tmp/run.txt\"\n",
    "\n",
    "if os.environ.get('TIRA_INPUT_DATASET', None):\n",
    "    # We are inside the TIRA sandbox, we process the injected dataset\n",
    "    input_dataset = os.environ.get('TIRA_INPUT_DATASET') + '/rerank.jsonl.gz'\n",
    "    output_file = os.environ.get('TIRA_OUTPUT_DIR') + '/run.txt'\n",
    "else:\n",
    "    # We are outside the TIRA sandbox, we process a small cunstructed hello world example\n",
    "    scored_docs = pd.DataFrame([\n",
    "        {\"qid\": \"1\", \"query\": \"hubble telescope achievements\", \"docno\": \"doc-3\", \"text\": \"The Hubble telescope discovered two moons of Pluto, Nix and Hydra.\", \"rank\": 1, \"score\": 10},\n",
    "        {\"qid\": \"1\", \"query\": \"hubble telescope achievements\", \"docno\": \"doc-4\", \"text\": \"Edwin Hubble, an astronomer with great achievement, completely reimagined our place in the universe (the telescope is named by him).\", \"rank\": 2, \"score\": 9},\n",
    "        {\"qid\": \"2\", \"query\": \"how to exit vim?\", \"docno\": \"doc-1\", \"text\": \"Press ESC key, then the : (colon), and type the wq command after the colon and hit the Enter key to save and leave Vim.\", \"rank\": 1, \"score\": 10},\n",
    "        {\"qid\": \"2\", \"query\": \"how to exit vim?\", \"docno\": \"doc-2\", \"text\": \"In Vim, you can always press the ESC key on your keyboard to enter the normal mode in the Vim editor.\", \"rank\": 2, \"score\": 9},\n",
    "        {\"qid\": \"3\", \"query\": \"signs heart attack\", \"docno\": \"doc-5\", \"text\": \"Common heart attack symptoms include: (1) Chest pain, (2) Pain or discomfort that spreads to the shoulder, arm, back, neck, jaw, teeth or sometimes the upper belly, etc.\", \"rank\": 1, \"score\": 10},\n",
    "        {\"qid\": \"3\", \"query\": \"signs heart attack\", \"docno\": \"doc-6\", \"text\": \"A heart attack happens when the flow of blood that brings oxygen to your heart muscle suddenly becomes blocked. \", \"rank\": 2, \"score\": 9},\n",
    "    ])\n",
    "    scored_docs.to_json(input_dataset, lines=True, orient='records')\n"
   ]
  },
  {
   "cell_type": "markdown",
   "metadata": {},
   "source": [
    "### Step 2: Run the Sparse Cross-Encoder"
   ]
  },
  {
   "cell_type": "code",
   "execution_count": 2,
   "metadata": {},
   "outputs": [
    {
     "name": "stdout",
     "output_type": "stream",
     "text": [
      "We re-rank the following scored documents:\n",
      "-rw-r--rw- 1 root root 590 Jan  4 14:34 /tmp/rerank.jsonl.gz\n"
     ]
    }
   ],
   "source": [
    "print('We re-rank the following scored documents:')\n",
    "!ls -lha {input_dataset}"
   ]
  },
  {
   "cell_type": "code",
   "execution_count": 3,
   "metadata": {},
   "outputs": [
    {
     "name": "stdout",
     "output_type": "stream",
     "text": [
      "/opt/conda/lib/python3.10/site-packages/lightning/fabric/utilities/seed.py:40: UserWarning: No seed found, seed set to 2305551409\n",
      "  rank_zero_warn(f\"No seed found, seed set to {seed}\")\n",
      "Global seed set to 2305551409\n",
      "GPU available: False, used: False\n",
      "TPU available: False, using: 0 TPU cores\n",
      "IPU available: False, using: 0 IPUs\n",
      "HPU available: False, using: 0 HPUs\n",
      "Predicting DataLoader 0: 100%|████████████████████| 2/2 [00:00<00:00,  2.69it/s]\n"
     ]
    }
   ],
   "source": [
    "!python3 /workspaces/ecir24-sparse-cross-encoder/main.py \\\n",
    "    predict --config /workspaces/ecir24-sparse-cross-encoder/sparse_cross_encoder/configs/cli/predict.yaml \\\n",
    "    --model.model_name_or_path webis/sparse-cross-encoder-4-512 \\\n",
    "    --data.ir_dataset_path {input_dataset} --trainer.callbacks.output_path {output_file}"
   ]
  },
  {
   "cell_type": "markdown",
   "metadata": {},
   "source": [
    "### Step 3: look into the results"
   ]
  },
  {
   "cell_type": "code",
   "execution_count": 4,
   "metadata": {},
   "outputs": [
    {
     "name": "stdout",
     "output_type": "stream",
     "text": [
      "Re-Ranking is done. first 5 results are:\n",
      "-rw-r--rw- 1 root root 307 Jan  4 14:35 /tmp/run.txt\n",
      "1\t0\tdoc-4\t1\t8.890690803527832\tsparse_cross_encoder\n",
      "1\t0\tdoc-3\t2\t4.295183181762695\tsparse_cross_encoder\n",
      "2\t0\tdoc-1\t1\t9.803215026855469\tsparse_cross_encoder\n",
      "2\t0\tdoc-2\t2\t6.0173187255859375\tsparse_cross_encoder\n",
      "3\t0\tdoc-5\t1\t9.545903205871582\tsparse_cross_encoder\n"
     ]
    }
   ],
   "source": [
    "print('Re-Ranking is done. first 5 results are:')\n",
    "!ls -lha {output_file}\n",
    "!head -5 {output_file}"
   ]
  }
 ],
 "metadata": {
  "kernelspec": {
   "display_name": "base",
   "language": "python",
   "name": "python3"
  },
  "language_info": {
   "codemirror_mode": {
    "name": "ipython",
    "version": 3
   },
   "file_extension": ".py",
   "mimetype": "text/x-python",
   "name": "python",
   "nbconvert_exporter": "python",
   "pygments_lexer": "ipython3",
   "version": "3.10.13"
  }
 },
 "nbformat": 4,
 "nbformat_minor": 2
}
